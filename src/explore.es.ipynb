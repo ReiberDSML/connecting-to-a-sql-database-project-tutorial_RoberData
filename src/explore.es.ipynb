{
 "cells": [
  {
   "cell_type": "markdown",
   "metadata": {},
   "source": [
    "# Explora aquí\n",
    "\n",
    "Se recomienda utilizar este cuaderno con fines de exploración.\n",
    "\n",
    "Por ejemplo:\n",
    "\n",
    "1. Puede importar el CSV generado por Python a su computadora portátil y explorarlo.\n",
    "2. Puede conectarse a su base de datos usando `pandas.read_sql` desde este cuaderno y explorarla."
   ]
  },
  {
   "cell_type": "code",
   "execution_count": 15,
   "metadata": {},
   "outputs": [
    {
     "data": {
      "text/plain": [
       "<sqlalchemy.engine.base.Connection at 0x7f3090e5a180>"
      ]
     },
     "execution_count": 15,
     "metadata": {},
     "output_type": "execute_result"
    }
   ],
   "source": [
    "# Ejemplo de lectura de la base de datos SQL desde aquí\n",
    "import os\n",
    "from dotenv import load_dotenv\n",
    "from sqlalchemy import create_engine\n",
    "import pandas as pd\n",
    "import psycopg2\n",
    "\n",
    "# cargar las variables del archivo .env\n",
    "load_dotenv()\n",
    "\n",
    "global engine\n",
    "connection_string = f\"postgresql://{os.getenv('DB_USER')}:{os.getenv('DB_PASSWORD')}@{os.getenv('DB_HOST')}/{os.getenv('DB_NAME')}\"\n",
    "engine = create_engine(connection_string).execution_options(autocommit=True)\n",
    "engine.connect()\n",
    "\n"
   ]
  }
 ],
 "metadata": {
  "kernelspec": {
   "display_name": "Python 3",
   "language": "python",
   "name": "python3"
  },
  "language_info": {
   "codemirror_mode": {
    "name": "ipython",
    "version": 3
   },
   "file_extension": ".py",
   "mimetype": "text/x-python",
   "name": "python",
   "nbconvert_exporter": "python",
   "pygments_lexer": "ipython3",
   "version": "3.12.6"
  },
  "orig_nbformat": 4
 },
 "nbformat": 4,
 "nbformat_minor": 2
}
